{
  "cells": [
    {
      "cell_type": "markdown",
      "metadata": {
        "id": "EUjJ7ImLnPVr"
      },
      "source": [
        "![image](https://www.python.org/static/img/python-logo.png)\n",
        "# 啟思博學習APCS (實作題)-Chapter 03\n",
        "[![Open In Colab](https://colab.research.google.com/assets/colab-badge.svg)](https://colab.research.google.com/github/googlecolab/colabtools/blob/master/notebooks/colab-github-demo.ipynb)\n",
        "\n",
        "Built-in Functions\n",
        "https://docs.python.org/3/library/functions.html"
      ]
    },
    {
      "cell_type": "markdown",
      "metadata": {
        "id": "Zk0MAMNlo_gx"
      },
      "source": [
        "#Python基本資料結構和簡單流程控制\n",
        "\n",
        "![image](https://i.ibb.co/mD0PCYD/ipo4.png)\n"
      ]
    },
    {
      "cell_type": "markdown",
      "metadata": {
        "id": "wKji2crve0Sp"
      },
      "source": [
        "## Topic 1(主題1)-串列(list)\n",
        "* 串列把一堆變數放入[]中，形成一排資料\n",
        "* 串列變數是一堆變數的集合\n",
        "\n",
        "Python語言括號有三種，\n",
        "小括號()代表元組(tuple)資料型別、中括號[ ]代表串列(List)資料型別、大括號{ }代表字典(dict)或集合(set)資料型別。在這裡，我們先介紹最常見的資料型別串列(List)…\n",
        "\n",
        "串列(List)\n",
        "\n",
        "![python-list.svg](data:image/svg+xml;base64,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)\n"
      ]
    },
    {
      "cell_type": "markdown",
      "metadata": {
        "id": "_daTGvP1goPw"
      },
      "source": [
        "### Step 1: 不使用 list變數的一堆變數"
      ]
    },
    {
      "cell_type": "code",
      "execution_count": null,
      "metadata": {
        "id": "X-HFB-nRrGDe"
      },
      "outputs": [],
      "source": [
        "student0 = 'John'; student1 = 'Mary'; student2 = 'Ken'\n",
        "print('Hello', student0)\n",
        "print('Hello', student1)\n",
        "print('Hello', student2)"
      ]
    },
    {
      "cell_type": "markdown",
      "metadata": {
        "id": "aujPAVDGguns"
      },
      "source": [
        "### Step 2: 使用 list變數當集合變數, 用索引鍵得到變數/indexing of list elements"
      ]
    },
    {
      "cell_type": "code",
      "execution_count": null,
      "metadata": {
        "id": "AsKKoIvhgbEi"
      },
      "outputs": [],
      "source": [
        "students = ['John', 'Mary', 'Ken']\n",
        "print('Hello', students[0])\n",
        "print('Hello', students[1])\n",
        "print('Hello', students[2])"
      ]
    },
    {
      "cell_type": "markdown",
      "metadata": {
        "id": "yiQg3EtRpNBA"
      },
      "source": [
        "Step 3: 負索引鍵得到變數"
      ]
    },
    {
      "cell_type": "code",
      "execution_count": null,
      "metadata": {
        "id": "9IYr7dv7pUXP"
      },
      "outputs": [],
      "source": [
        "students = ['John', 'Mary', 'Ken']\n",
        "print('Hello', students[-3])\n",
        "print('Hello', students[-2])\n",
        "print('Hello', students[-1])"
      ]
    },
    {
      "cell_type": "markdown",
      "metadata": {
        "id": "mnxswVVUpcej"
      },
      "source": [
        "### Step 4: list的長度/Length of a list"
      ]
    },
    {
      "cell_type": "code",
      "execution_count": null,
      "metadata": {
        "id": "uSvy9MKppgYZ"
      },
      "outputs": [],
      "source": [
        "students = ['John', 'Mary', 'Ken']\n",
        "print(students)\n",
        "print(len(students))"
      ]
    },
    {
      "cell_type": "markdown",
      "metadata": {
        "id": "vebCjgi-pszE"
      },
      "source": [
        "### Step 5: 增加串列(list)的元素"
      ]
    },
    {
      "cell_type": "code",
      "execution_count": null,
      "metadata": {
        "id": "JVlYW1xqp5oM"
      },
      "outputs": [],
      "source": [
        "students.append('Lily')\n",
        "print(students)\n",
        "print(len(students))"
      ]
    },
    {
      "cell_type": "markdown",
      "metadata": {
        "id": "nQJ1uTEYvPwL"
      },
      "source": [
        "## Topic 2(主題2)-字串切割(str.split())\n"
      ]
    },
    {
      "cell_type": "markdown",
      "metadata": {
        "id": "2INtSe_Gv-wl"
      },
      "source": [
        "### Step 1: 用空白間隔的子字串"
      ]
    },
    {
      "cell_type": "code",
      "execution_count": null,
      "metadata": {
        "id": "4z4GBkIpwjKW"
      },
      "outputs": [],
      "source": [
        "students = 'John Mary Ken'\n",
        "print(students)\n",
        "print(len(students))"
      ]
    },
    {
      "cell_type": "markdown",
      "metadata": {
        "id": "mAPYnqlNqmpD"
      },
      "source": [
        "### Step 2: 用split()切開子字串"
      ]
    },
    {
      "cell_type": "code",
      "execution_count": null,
      "metadata": {
        "id": "u2ty_vzewBvL"
      },
      "outputs": [],
      "source": [
        "students = 'John Mary Ken'.split()\n",
        "print(students)\n",
        "print(len(students))\n",
        "print(type(students))"
      ]
    },
    {
      "cell_type": "markdown",
      "metadata": {
        "id": "Qa7Btbu71c7L"
      },
      "source": [
        "### Step 3: 把input的字串用split()切開"
      ]
    },
    {
      "cell_type": "code",
      "execution_count": null,
      "metadata": {
        "id": "qp1pj05V1joS"
      },
      "outputs": [],
      "source": [
        "# input 3 5\n",
        "paras = input().split()\n",
        "print(paras[0])\n",
        "print(paras[1])"
      ]
    },
    {
      "cell_type": "markdown",
      "metadata": {
        "id": "9U3gc33E2GmL"
      },
      "source": [
        "### Step 4: 把input的字串用split()切開，再轉成整數\n"
      ]
    },
    {
      "cell_type": "code",
      "execution_count": null,
      "metadata": {
        "id": "3O7lzJI62McA"
      },
      "outputs": [],
      "source": [
        "# input 3 5\n",
        "paras = input().split()\n",
        "a = int(paras[0])\n",
        "b = int(paras[1])\n",
        "print(a + b)"
      ]
    },
    {
      "cell_type": "markdown",
      "metadata": {
        "id": "jZ9bQuuEuODK"
      },
      "source": [
        "## Topic 3(主題3)-for迴圈/for-loop"
      ]
    },
    {
      "cell_type": "markdown",
      "metadata": {
        "id": "a2QiuVQouUjq"
      },
      "source": [
        "### Step 1: 對list變數使用迴圈"
      ]
    },
    {
      "cell_type": "code",
      "execution_count": null,
      "metadata": {
        "id": "ZGZ_8oDouYUN"
      },
      "outputs": [],
      "source": [
        "students = ['John', 'Mary', 'Ken']\n",
        "for student in students:\n",
        "  print('Hello ', student)"
      ]
    },
    {
      "cell_type": "markdown",
      "metadata": {
        "id": "nBU6Jd88wve6"
      },
      "source": [
        "### Step 2: 使用迴圈,印出1-9/print out the numbers 1-9"
      ]
    },
    {
      "cell_type": "code",
      "execution_count": null,
      "metadata": {
        "id": "EyiI9xOBw1g_"
      },
      "outputs": [],
      "source": [
        "numbers = [1, 2, 3, 4, 5, 6, 7, 8, 9]\n",
        "for number in numbers:\n",
        "  print(number, end=' ')"
      ]
    },
    {
      "cell_type": "markdown",
      "metadata": {
        "id": "2zYw7pu4xWDs"
      },
      "source": [
        "##Topic 4: 多重指定敘述(multiple assignment)\n"
      ]
    },
    {
      "cell_type": "markdown",
      "metadata": {
        "id": "XbZwuO4ehshr"
      },
      "source": [
        "### Step 1: 各別指定"
      ]
    },
    {
      "cell_type": "code",
      "execution_count": null,
      "metadata": {
        "id": "Jlu-46AjyszT"
      },
      "outputs": [],
      "source": [
        "students = ['John', 'Mary', 'Ken']\n",
        "a = students[0]\n",
        "b = students[1]\n",
        "c = students[2]\n",
        "print(a, b, c)"
      ]
    },
    {
      "cell_type": "markdown",
      "metadata": {
        "id": "_oGXMpUZvPZV"
      },
      "source": [
        "### Step 2: 多重指定(multiple assignment), 又稱為反打包(unpacking)"
      ]
    },
    {
      "cell_type": "code",
      "execution_count": null,
      "metadata": {
        "id": "dsU3gHR4vSAI"
      },
      "outputs": [],
      "source": [
        "students = ['John', 'Mary', 'Ken']\n",
        "a, b, c = students\n",
        "print(a, b, c)"
      ]
    },
    {
      "cell_type": "markdown",
      "metadata": {
        "id": "m4TqY6q5wS52"
      },
      "source": [
        "### Step 3: 部份反打包(unpacking)"
      ]
    },
    {
      "cell_type": "code",
      "execution_count": null,
      "metadata": {
        "id": "SWQ2o4MvwaE4"
      },
      "outputs": [],
      "source": [
        "students = ['John', 'Mary', 'Ken']\n",
        "a, *other = students\n",
        "print(other)"
      ]
    },
    {
      "cell_type": "markdown",
      "metadata": {
        "id": "dRdtCudyzjfI"
      },
      "source": [
        "##Topic 5:  f-格式化字串和print()的格式化輸出\n",
        "\n",
        "https://docs.python.org/3/tutorial/inputoutput.html"
      ]
    },
    {
      "cell_type": "markdown",
      "metadata": {
        "id": "b_OsCdmjz7_e"
      },
      "source": [
        "### Step 1: f-字串"
      ]
    },
    {
      "cell_type": "code",
      "execution_count": null,
      "metadata": {
        "id": "b1tRdaFu3jX0"
      },
      "outputs": [],
      "source": [
        "a = 'John'\n",
        "str2 = f'Hi, {a}'\n",
        "print(str2)"
      ]
    },
    {
      "cell_type": "markdown",
      "metadata": {
        "id": "d3ZoFghS1Eir"
      },
      "source": [
        "### Step 2: 使用f-字串的格式化輸出"
      ]
    },
    {
      "cell_type": "code",
      "execution_count": null,
      "metadata": {
        "id": "Y0ZTqGnr1BTo"
      },
      "outputs": [],
      "source": [
        "a = 'John'\n",
        "print(f'Hi, {a}')"
      ]
    },
    {
      "cell_type": "markdown",
      "metadata": {
        "id": "PPziADEY1uLb"
      },
      "source": [
        "### Step 3: 數字的格式化\n"
      ]
    },
    {
      "cell_type": "code",
      "execution_count": null,
      "metadata": {
        "id": "HI_-GqDYzEXc"
      },
      "outputs": [],
      "source": [
        "yes_votes = 42_572_654\n",
        "no_votes = 43_132_495\n",
        "percentage = yes_votes / (yes_votes + no_votes)\n",
        "print(f'{yes_votes:9} YES votes {percentage:2.2%}')"
      ]
    },
    {
      "cell_type": "code",
      "execution_count": null,
      "metadata": {
        "id": "H1OLx_ro4E37"
      },
      "outputs": [],
      "source": [
        "numbers = [1, 2, 3, 4, 5, 6, 7, 8, 9]\n",
        "for n in numbers:\n",
        "  print(f'{n:1}*1 ={n*1:2}', end=' ')\n",
        "  print(f'{n:1}*2 ={n*2:2}', end=' ')\n",
        "  print(f'{n:1}*3 ={n*3:2}', end=' ')\n",
        "  print(f'{n:1}*4 ={n*4:2}', end=' ')\n",
        "  print(f'{n:1}*5 ={n*5:2}', end=' ')\n",
        "  print(f'{n:1}*6 ={n*6:2}', end=' ')\n",
        "  print(f'{n:1}*7 ={n*7:2}', end=' ')\n",
        "  print(f'{n:1}*8 ={n*8:2}', end=' ')\n",
        "  print(f'{n:1}*9 ={n*9:2}', end=' ')\n",
        "  print()\n"
      ]
    },
    {
      "cell_type": "markdown",
      "metadata": {
        "id": "ITiys8w41AeF"
      },
      "source": [
        "### Step 2: 使用2層迴圈,印出99乘法表/print out the multiplication table"
      ]
    },
    {
      "cell_type": "code",
      "execution_count": null,
      "metadata": {
        "id": "EarRSzq4iprp"
      },
      "outputs": [],
      "source": [
        "numbers = [1, 2, 3, 4, 5, 6, 7, 8, 9]\n",
        "for a in numbers:\n",
        "  for b in numbers:\n",
        "    print(f'{a:1}*{b:1} ={a*b:2}', end=' ')\n",
        "  print()"
      ]
    },
    {
      "cell_type": "markdown",
      "metadata": {
        "id": "Ka6Jhrvd2e1o"
      },
      "source": [
        "## Topic 7(主題7)-range()函數\n",
        "range(start, stop, step)"
      ]
    },
    {
      "cell_type": "markdown",
      "metadata": {
        "id": "SEaBUrwB3FQs"
      },
      "source": [
        "### Step 1: parameters of range(): begin/end"
      ]
    },
    {
      "cell_type": "code",
      "execution_count": null,
      "metadata": {
        "id": "R4KAvFpyiqz8"
      },
      "outputs": [],
      "source": [
        "a = [1, 2, 3, 4, 5, 6, 7, 8, 9]\n",
        "for n in a:\n",
        "  print(f'{n}', end=' ')\n",
        "print()\n"
      ]
    },
    {
      "cell_type": "code",
      "execution_count": null,
      "metadata": {
        "id": "Gm-onKPB2pSO"
      },
      "outputs": [],
      "source": [
        "b = range(1, 10)\n",
        "for n in b:\n",
        "  print(f'{n}', end=' ')\n",
        "print()"
      ]
    },
    {
      "cell_type": "code",
      "execution_count": null,
      "metadata": {
        "id": "0GaT6CUK2xYC"
      },
      "outputs": [],
      "source": [
        "for n in range(1, 10):\n",
        "  print(f'{n}', end=' ')\n",
        "print()"
      ]
    },
    {
      "cell_type": "markdown",
      "metadata": {
        "id": "mr_25e3G3KQT"
      },
      "source": [
        "### Step 2: parameters of range(): step"
      ]
    },
    {
      "cell_type": "code",
      "execution_count": null,
      "metadata": {
        "id": "RfZP3NmC24Lo"
      },
      "outputs": [],
      "source": [
        "for n in range(1, 10, 1):\n",
        "  print(f'{n}', end=' ')\n",
        "print()"
      ]
    },
    {
      "cell_type": "code",
      "execution_count": null,
      "metadata": {
        "id": "ga3Zasj1iuTj"
      },
      "outputs": [],
      "source": [
        "for n in range(1, 18, 2):\n",
        "  print(f'{n}', end=' ')\n",
        "print()\n"
      ]
    },
    {
      "cell_type": "markdown",
      "metadata": {
        "id": "dNKvjw_K3N3m"
      },
      "source": [
        "### Step 3: 使用range(),印出99乘法表/print out the multiplication table"
      ]
    },
    {
      "cell_type": "code",
      "execution_count": null,
      "metadata": {
        "id": "_-HUgFTSiyvm"
      },
      "outputs": [],
      "source": [
        "for n in range(1,10):\n",
        "  print(f'{n:1}*1 ={n*1:2}', end=' ')\n",
        "  print(f'{n:1}*2 ={n*2:2}', end=' ')\n",
        "  print(f'{n:1}*3 ={n*3:2}', end=' ')\n",
        "  print(f'{n:1}*4 ={n*4:2}', end=' ')\n",
        "  print(f'{n:1}*5 ={n*5:2}', end=' ')\n",
        "  print(f'{n:1}*6 ={n*6:2}', end=' ')\n",
        "  print(f'{n:1}*7 ={n*7:2}', end=' ')\n",
        "  print(f'{n:1}*8 ={n*8:2}', end=' ')\n",
        "  print(f'{n:1}*9 ={n*9:2}', end=' ')\n",
        "  print()"
      ]
    },
    {
      "cell_type": "code",
      "execution_count": null,
      "metadata": {
        "id": "yuAo6_tE3aWo"
      },
      "outputs": [],
      "source": [
        "for a in range(1,10):\n",
        "  for b in range(1,10):\n",
        "    print(f'{a:1}*{b:1} ={a*b:2}', end=' ')\n",
        "  print()"
      ]
    },
    {
      "cell_type": "markdown",
      "metadata": {
        "id": "w5QUnW1VizbU"
      },
      "source": [
        "## Topic 8(主題8)-舊式字串格式化\n",
        "\n",
        "```\n",
        "A = 435; B = 59.058\n",
        "print('Art: %5d, Price per Unit: %8.2f' % (A, B))          #%-formatting 格式化列印\n",
        "print(\"Art: {0:5d}, Price per Unit: {1:8.2f}\".format(A,B)) #str-format（Python 2.6+）\n",
        "print(f\"Art:{A:5d}, Price per Unit: {B:8.2f}\")             #f-string （Python 3.6+）\n",
        "```"
      ]
    },
    {
      "cell_type": "markdown",
      "metadata": {
        "id": "u_8IX05f3vvK"
      },
      "source": [
        "### Step 1: %-formatting 格式化列印\n",
        "透過% 運算符號，將在元組（tuple）中的一組變量依照指定的格式化方式輸出。如 %s（字串）、%d （十進位整數）、 %f（浮點數）"
      ]
    },
    {
      "cell_type": "code",
      "execution_count": null,
      "metadata": {
        "id": "tclbfd_ljRcm"
      },
      "outputs": [],
      "source": [
        "for a in range(1,10):\n",
        "  for b in range(1,10):\n",
        "    print('%d*%d =%2d'%(a, b, a*b), end=' ')\n",
        "  print()"
      ]
    },
    {
      "cell_type": "markdown",
      "metadata": {
        "id": "6phzLd_k31Oe"
      },
      "source": [
        "### Step 2: str-format（Python 2.6+）格式化列印"
      ]
    },
    {
      "cell_type": "code",
      "execution_count": null,
      "metadata": {
        "id": "RwmoHjpL34zX"
      },
      "outputs": [],
      "source": [
        "for a in range(1,10):\n",
        "  for b in range(1,10):\n",
        "    print('{0:1d}*{1:1d} ={2:2d}'.format(a, b, a*b), end=' ')\n",
        "  print()"
      ]
    },
    {
      "cell_type": "markdown",
      "metadata": {
        "id": "c_9ZWTvb39AN"
      },
      "source": [
        "### Step 3: f-string （Python 3.6+）格式化列印"
      ]
    },
    {
      "cell_type": "code",
      "execution_count": null,
      "metadata": {
        "id": "XLTQo3YR3_av"
      },
      "outputs": [],
      "source": [
        "for a in range(1,10):\n",
        "  for b in range(1,10):\n",
        "    c= a*b\n",
        "    print(f'{a}*{b} ={c:2d}', end=' ')\n",
        "  print()"
      ]
    },
    {
      "cell_type": "markdown",
      "metadata": {
        "id": "b1tg6-jqXhMT"
      },
      "source": [
        "## Topic 9(主題9)-串列(List)的初始化和解析式"
      ]
    },
    {
      "cell_type": "markdown",
      "metadata": {
        "id": "01fn9Rq6Fwa0"
      },
      "source": [
        "### Step 1: 條列初始化"
      ]
    },
    {
      "cell_type": "code",
      "execution_count": null,
      "metadata": {
        "id": "C0HiXrgqF0fg"
      },
      "outputs": [],
      "source": [
        "numbers = [2, 4, 6, 8, 10]\n",
        "for n in numbers:\n",
        "  print(f'{n}', end=' ')"
      ]
    },
    {
      "cell_type": "markdown",
      "metadata": {
        "id": "HYk_laH7GE8C"
      },
      "source": [
        "### Step 2: 使用串列解析式(List Comprehension)來初始化\n",
        "\n"
      ]
    },
    {
      "cell_type": "code",
      "execution_count": null,
      "metadata": {
        "id": "0DX2hBY6GU2L"
      },
      "outputs": [],
      "source": [
        "numbers = [x for x in range(2,11,2)]\n",
        "for n in numbers:\n",
        "  print(f'{n}', end=' ')"
      ]
    },
    {
      "cell_type": "markdown",
      "metadata": {
        "id": "L5Z7wEH8GULs"
      },
      "source": [
        "## Topic 10-map()函式\n",
        "\n"
      ]
    },
    {
      "cell_type": "markdown",
      "source": [
        "### Step 1: 輸入三個整數參數"
      ],
      "metadata": {
        "id": "8nsH3Gq_fZCq"
      }
    },
    {
      "cell_type": "code",
      "source": [
        "instr = input()\n",
        "paras = instr.split()\n",
        "a = int(paras[0])\n",
        "b = int(paras[1])\n",
        "c = int(paras[2])\n",
        "print(f\"a={a} b={b} c={c}\")"
      ],
      "metadata": {
        "id": "H0ksF2lGfdKV"
      },
      "execution_count": null,
      "outputs": []
    },
    {
      "cell_type": "code",
      "source": [
        "#合併輸入和數字轉換\n",
        "a, b, c = map(int, input().split())\n",
        "print(f\"a={a} b={b} c={c}\")"
      ],
      "metadata": {
        "id": "U2MUFI2FfhMh"
      },
      "execution_count": null,
      "outputs": []
    },
    {
      "cell_type": "markdown",
      "source": [
        "### Step 2: 輸入三個浮點數參數"
      ],
      "metadata": {
        "id": "1szd9hufffLQ"
      }
    },
    {
      "cell_type": "code",
      "source": [
        "instr = input()\n",
        "paras = instr.split()\n",
        "a = float(paras[0])\n",
        "b = float(paras[1])\n",
        "c = float(paras[2])\n",
        "print(f\"a={a} b={b} c={c}\")"
      ],
      "metadata": {
        "id": "3cULoPBefsEv"
      },
      "execution_count": null,
      "outputs": []
    },
    {
      "cell_type": "code",
      "source": [
        "#合併輸入和數字轉換\n",
        "a, b, c = map(float, input().split())\n",
        "print(f\"a={a} b={b} c={c}\")"
      ],
      "metadata": {
        "id": "loImj8Ovf0SI"
      },
      "execution_count": null,
      "outputs": []
    }
  ],
  "metadata": {
    "colab": {
      "provenance": []
    },
    "kernelspec": {
      "display_name": "Python 3 (ipykernel)",
      "language": "python",
      "name": "python3"
    },
    "language_info": {
      "codemirror_mode": {
        "name": "ipython",
        "version": 3
      },
      "file_extension": ".py",
      "mimetype": "text/x-python",
      "name": "python",
      "nbconvert_exporter": "python",
      "pygments_lexer": "ipython3",
      "version": "3.9.7"
    }
  },
  "nbformat": 4,
  "nbformat_minor": 0
}