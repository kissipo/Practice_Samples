{
  "nbformat": 4,
  "nbformat_minor": 0,
  "metadata": {
    "colab": {
      "provenance": []
    },
    "kernelspec": {
      "display_name": "Python 3",
      "language": "python",
      "name": "python3"
    },
    "language_info": {
      "codemirror_mode": {
        "name": "ipython",
        "version": 3
      },
      "file_extension": ".py",
      "mimetype": "text/x-python",
      "name": "python",
      "nbconvert_exporter": "python",
      "pygments_lexer": "ipython3",
      "version": "3.7.6"
    }
  },
  "cells": [
    {
      "cell_type": "markdown",
      "metadata": {
        "id": "Quj7HWO3VoYA"
      },
      "source": [
        "![image](https://www.python.org/static/img/python-logo.png)\n",
        "# 啟思博學習APCS (實作題)-Chapter 06\n",
        "[![Open In Colab](https://colab.research.google.com/assets/colab-badge.svg)](https://colab.research.google.com/github/googlecolab/colabtools/blob/master/notebooks/colab-github-demo.ipynb)"
      ]
    },
    {
      "cell_type": "markdown",
      "metadata": {
        "id": "kLe1GoiTtrgI"
      },
      "source": [
        "## Topic 1(主題1)-基本流程複習"
      ]
    },
    {
      "cell_type": "markdown",
      "metadata": {
        "id": "FZarHNOWTe_g"
      },
      "source": [
        "### Step 1: if-condition\n",
        "\n",
        "<img src=\"https://i.ibb.co/sv727Wq/if-condition.png\" alt=\"alt text\" width=\"400\">\n"
      ]
    },
    {
      "cell_type": "code",
      "metadata": {
        "id": "T3MCXHO5_QjD"
      },
      "source": [
        "bmi = 32\n",
        "if bmi>30.0:\n",
        "  print(\"Obesity\")"
      ],
      "execution_count": null,
      "outputs": []
    },
    {
      "cell_type": "code",
      "metadata": {
        "id": "JpCRue7n_1KB"
      },
      "source": [
        "bmi = 20\n",
        "if bmi>24.0:\n",
        "  print(\"Overweight\")\n",
        "else:\n",
        "  print(\"Healthy weight\")"
      ],
      "execution_count": null,
      "outputs": []
    },
    {
      "cell_type": "code",
      "metadata": {
        "id": "dUfurdKFADV0"
      },
      "source": [
        "bmi = 16\n",
        "if bmi>24.0:\n",
        "  print(\"Overweight\")\n",
        "elif bmi<18.5:\n",
        "  print(\"Underweight\")\n",
        "else:\n",
        "  print(\"Healthy weight\")"
      ],
      "execution_count": null,
      "outputs": []
    },
    {
      "cell_type": "markdown",
      "metadata": {
        "id": "NrtKVCwvTi4m"
      },
      "source": [
        "### Step 2: for-loop\n",
        "<img src=\"https://www.learnbyexample.org/wp-content/uploads/python/Python-for-Loop-Syntax.png\" alt=\"2021-11-07-184655\" border=\"0\" width=\"500\">"
      ]
    },
    {
      "cell_type": "code",
      "metadata": {
        "id": "d9BJMcQnBCgp"
      },
      "source": [
        "for n in [1, 3, 5, 7]:\n",
        "  print(n)"
      ],
      "execution_count": null,
      "outputs": []
    },
    {
      "cell_type": "code",
      "metadata": {
        "id": "_X__MHNoBwoX"
      },
      "source": [
        "for n in range(1, 8, 2):\n",
        "  print(n)"
      ],
      "execution_count": null,
      "outputs": []
    },
    {
      "cell_type": "code",
      "source": [
        "colors = ['red', 'green', 'blue', 'yellow']\n",
        "for x in colors:\n",
        "    print(x)\n",
        "else:\n",
        "    print('Done!')"
      ],
      "metadata": {
        "id": "sltMfh15CKiU"
      },
      "execution_count": null,
      "outputs": []
    },
    {
      "cell_type": "markdown",
      "metadata": {
        "id": "mmPmGJQLTr1F"
      },
      "source": [
        "### Step 3: while-loop"
      ]
    },
    {
      "cell_type": "code",
      "metadata": {
        "id": "qdyTIDh3CACy"
      },
      "source": [
        "n = 1\n",
        "while n < 8:\n",
        "  print(n)\n",
        "  n += 2"
      ],
      "execution_count": null,
      "outputs": []
    },
    {
      "cell_type": "markdown",
      "metadata": {
        "id": "3zBkfEMqT6rG"
      },
      "source": [
        "### Step 4: 迴圈內的 break 陳述式"
      ]
    },
    {
      "cell_type": "code",
      "metadata": {
        "id": "MMM8WbD9CRIY"
      },
      "source": [
        "i = 1\n",
        "while i < 6:\n",
        "  print(i)\n",
        "  if i == 3:\n",
        "    break\n",
        "  i += 1"
      ],
      "execution_count": null,
      "outputs": []
    },
    {
      "cell_type": "markdown",
      "metadata": {
        "id": "DX6_oDd9CRnq"
      },
      "source": [
        "### Step 5: 迴圈內的 continue 陳述式"
      ]
    },
    {
      "cell_type": "code",
      "metadata": {
        "id": "imgF51a7CZtE"
      },
      "source": [
        "i = 0\n",
        "while i < 6:\n",
        "  i += 1\n",
        "  if i == 3:\n",
        "    continue\n",
        "  print(i)"
      ],
      "execution_count": null,
      "outputs": []
    },
    {
      "cell_type": "markdown",
      "metadata": {
        "id": "7RVMfQ0OT_ww"
      },
      "source": [
        "### Step 6: 迴圈內的pass 陳述式\n",
        "\n",
        "pass 陳述式不執行任何動作。它可用在語法上需要一個陳述式但程式不需要執行任何動作的時候。"
      ]
    },
    {
      "cell_type": "code",
      "metadata": {
        "id": "oJ-yi3vzxlVt"
      },
      "source": [
        "while True:\n",
        "    pass"
      ],
      "execution_count": null,
      "outputs": []
    },
    {
      "cell_type": "code",
      "metadata": {
        "id": "m-_uu2rzx8jO"
      },
      "source": [
        "def foo(*args):\n",
        "    pass"
      ],
      "execution_count": null,
      "outputs": []
    },
    {
      "cell_type": "markdown",
      "metadata": {
        "id": "jm_cpk5vUL1g"
      },
      "source": [
        "## Topic 2(主題2)-錯誤和例外\n",
        "https://docs.python.org/zh-tw/3/tutorial/errors.html\n",
        "\n",
        "```\n",
        "try:\n",
        "    # 想要執行的程式碼\n",
        "    ...\n",
        "except (例外錯誤類型1, 例外錯誤類型2, …) as 例外物件:\n",
        "    # 發生例外錯誤類型1或是例外錯誤類型2…時要執行的程式碼\n",
        "    ...\n",
        "except (例外錯誤類型3, 例外錯誤類型4, …) as 例外物件:\n",
        "    # 發生例外錯誤類型3或是例外錯誤類型4…時要執行的程式碼\n",
        "    ...\n",
        "else:\n",
        "    # try指令裏頭的程式順利執行完畢，沒有發生任何錯誤時執行\n",
        "    ...\n",
        "finally:\n",
        "    # 不管有沒有發生錯誤，最後都會執行\n",
        "    ...\n",
        "```"
      ]
    },
    {
      "cell_type": "markdown",
      "metadata": {
        "id": "IxwbTkaVVsYu"
      },
      "source": [
        "### Step 7: 例外錯誤處理exception"
      ]
    },
    {
      "cell_type": "code",
      "metadata": {
        "id": "9v2kP0WTyvwL"
      },
      "source": [
        "try:\n",
        "  print(x)\n",
        "except:\n",
        "  print(\"An exception occurred\")"
      ],
      "execution_count": null,
      "outputs": []
    },
    {
      "cell_type": "markdown",
      "metadata": {
        "id": "hzxDACRSy-Oo"
      },
      "source": [
        "### Step 8: 例外錯誤處理Else"
      ]
    },
    {
      "cell_type": "code",
      "metadata": {
        "id": "xs4J2M_2zFVY"
      },
      "source": [
        "try:\n",
        "  print(\"Hello\")\n",
        "except:\n",
        "  print(\"Something went wrong\")\n",
        "else:\n",
        "  print(\"Nothing went wrong\")"
      ],
      "execution_count": null,
      "outputs": []
    },
    {
      "cell_type": "markdown",
      "metadata": {
        "id": "V09ZggwKWmuT"
      },
      "source": [
        "### Step 9: 例外錯誤處理finally"
      ]
    },
    {
      "cell_type": "code",
      "metadata": {
        "id": "pgKMP1P5y9WF"
      },
      "source": [
        "try:\n",
        "  print(x)\n",
        "except:\n",
        "  print(\"Something went wrong\")\n",
        "finally:\n",
        "  print(\"The 'try except' is finished\")"
      ],
      "execution_count": null,
      "outputs": []
    },
    {
      "cell_type": "markdown",
      "metadata": {
        "id": "RQ86QI4eYH1i"
      },
      "source": [
        "## Topic 3-迭代器（iterator）\n",
        "https://docs.python.org/3/library/itertools.html\n",
        "\n",
        "* iterator（疊代器）是一個表示資料流的物件。\n",
        "* 重複地呼叫疊代器的 __next__() method。\n",
        "* 當不再有資料時，則會引發 StopIteration 例外。\n",
        "* 疊代器必須有一個 __iter__() method，它會回傳疊代器物件本身。"
      ]
    },
    {
      "cell_type": "markdown",
      "metadata": {
        "id": "jMm7Rh7N0xYq"
      },
      "source": [
        "### Step 1: 使用迭代器的for-loop\n"
      ]
    },
    {
      "cell_type": "code",
      "metadata": {
        "id": "m-I9xTiH2BOv"
      },
      "source": [
        "for n in [1,2,3,4]:\n",
        "  print(n**2, end=\" \")"
      ],
      "execution_count": null,
      "outputs": []
    },
    {
      "cell_type": "code",
      "metadata": {
        "id": "VImUvq1v2LZn"
      },
      "source": [
        "a = iter([1,2,3,4])\n",
        "while True:\n",
        "  try:\n",
        "    n = next(a)\n",
        "    print(n**2, end=\" \")\n",
        "  except StopIteration:\n",
        "    break"
      ],
      "execution_count": null,
      "outputs": []
    },
    {
      "cell_type": "markdown",
      "metadata": {
        "id": "JZy0cMb1YnPR"
      },
      "source": [
        "## Topic 4-生成式(Comprehension)"
      ]
    },
    {
      "cell_type": "markdown",
      "metadata": {
        "id": "EfqNWsqv4l3V"
      },
      "source": [
        "### Step 13: 串列生成器 (list comprehension)\n",
        "\n",
        "[expression for item in iterable]"
      ]
    },
    {
      "cell_type": "code",
      "metadata": {
        "id": "XIwL3MY54mQ_"
      },
      "source": [
        "numbers = []\n",
        "for x in range(10):\n",
        "    numbers.append(x ** 2)\n",
        "print(numbers)"
      ],
      "execution_count": null,
      "outputs": []
    },
    {
      "cell_type": "code",
      "metadata": {
        "id": "dgmAfKEm6LL-"
      },
      "source": [
        "numbers = [x ** 2 for x in range(10)]\n",
        "print(numbers)"
      ],
      "execution_count": null,
      "outputs": []
    },
    {
      "cell_type": "markdown",
      "metadata": {
        "id": "1Fnb-xxy6RYy"
      },
      "source": [
        "### Step 14: 集合生成器 (set comprehension)"
      ]
    },
    {
      "cell_type": "code",
      "metadata": {
        "id": "XWz_8PbG6nOb"
      },
      "source": [
        "members = {s**2 for s in [1, 2, 1, 0]}\n",
        "print(members)"
      ],
      "execution_count": null,
      "outputs": []
    },
    {
      "cell_type": "code",
      "metadata": {
        "id": "fiOXykby6-Eb"
      },
      "source": [
        "### Step 15: 字典生成器 (Dictionary Comprehension)"
      ],
      "execution_count": null,
      "outputs": []
    },
    {
      "cell_type": "code",
      "metadata": {
        "id": "I0XtlSFk7QfM"
      },
      "source": [
        "square_dict = dict()\n",
        "for num in range(1, 11):\n",
        "    square_dict[num] = num*num\n",
        "print(square_dict)"
      ],
      "execution_count": null,
      "outputs": []
    },
    {
      "cell_type": "code",
      "metadata": {
        "id": "BmtvBTej7WKA"
      },
      "source": [
        "# dictionary comprehension example\n",
        "square_dict = {num: num*num for num in range(1, 11)}\n",
        "print(square_dict)"
      ],
      "execution_count": null,
      "outputs": []
    },
    {
      "cell_type": "markdown",
      "source": [
        "## Topic 5-函式定義 function definition and call"
      ],
      "metadata": {
        "id": "ofXpmeCkCw6a"
      }
    },
    {
      "cell_type": "markdown",
      "source": [
        "### Step 1: Calculate the greatest common factor gcd of 240 and 96"
      ],
      "metadata": {
        "id": "c4E5hHIMC7rC"
      }
    },
    {
      "cell_type": "code",
      "source": [
        "a=240; b=96\n",
        "r=a%b\n",
        "while r!=0:\n",
        "  a=b;b=r\n",
        "  r=a%b\n",
        "print(f\"gcd={b}\")"
      ],
      "metadata": {
        "id": "T5eSDLl4C9gH"
      },
      "execution_count": null,
      "outputs": []
    },
    {
      "cell_type": "markdown",
      "source": [
        "### Step 2: Define a function gcd()\n",
        "\n",
        "* parameter參數：函數定義中的型式變數 def gcd(x, y):\n",
        "* argument引數：函數呼叫時的真實變數  gcd(a,b)"
      ],
      "metadata": {
        "id": "Uan-SOQBDA5-"
      }
    },
    {
      "cell_type": "code",
      "source": [
        "def gcd(x, y):\n",
        "  r=x%y\n",
        "  while r!=0:\n",
        "    x=y;y=r\n",
        "    r=x%y\n",
        "  return y"
      ],
      "metadata": {
        "id": "LqQ3K64oDACT"
      },
      "execution_count": null,
      "outputs": []
    },
    {
      "cell_type": "code",
      "source": [
        "a=240; b=96\n",
        "print(f\"{a}, {b}, {gcd(a,b)}\")"
      ],
      "metadata": {
        "id": "WQqqmEcGDHwC"
      },
      "execution_count": null,
      "outputs": []
    },
    {
      "cell_type": "markdown",
      "source": [
        "### Step 3: 階乘 (factorial)"
      ],
      "metadata": {
        "id": "B3xshrE_DMCC"
      }
    },
    {
      "cell_type": "code",
      "source": [
        "n = 5\n",
        "v = 1\n",
        "for i in range(1, n + 1):\n",
        "    v *= i\n",
        "print(v)"
      ],
      "metadata": {
        "id": "DYSBztrUDOIV"
      },
      "execution_count": null,
      "outputs": []
    },
    {
      "cell_type": "markdown",
      "source": [
        "### Step 4: Define a function factorial()"
      ],
      "metadata": {
        "id": "OCBf-nEYDUKI"
      }
    },
    {
      "cell_type": "code",
      "source": [
        "def factorial(n):\n",
        "    v = 1\n",
        "    for i in range(1,n+1):\n",
        "        v *= i\n",
        "    return v\n",
        "\n",
        "print(factorial(5))"
      ],
      "metadata": {
        "id": "aB6GmFdZDV1A"
      },
      "execution_count": null,
      "outputs": []
    },
    {
      "cell_type": "markdown",
      "source": [
        "## Topic 6-函式參數及傳回值 function parameter and return value"
      ],
      "metadata": {
        "id": "ILfu3tSrDYC7"
      }
    },
    {
      "cell_type": "markdown",
      "source": [
        "### Step 5: default parameter"
      ],
      "metadata": {
        "id": "UVdUWx4eDf3W"
      }
    },
    {
      "cell_type": "code",
      "source": [
        "def greet(name=\"Sir\",msg=\"Good day\"):\n",
        "   print(\"Hello\",name + ', ' + msg)\n",
        "\n",
        "greet(\"John\",\"Good morning!\")\n",
        "greet(\"Mary\")\n",
        "greet()"
      ],
      "metadata": {
        "id": "wWIQOvXVDiL8"
      },
      "execution_count": null,
      "outputs": []
    },
    {
      "cell_type": "markdown",
      "source": [
        "### Step 6: Keyword argument"
      ],
      "metadata": {
        "id": "V9kWNltuDmKn"
      }
    },
    {
      "cell_type": "code",
      "source": [
        "greet(msg=\"Good morning!\", name=\"John\")\n",
        "greet(msg=\"Good day!\")"
      ],
      "metadata": {
        "id": "h5C82aCFDmrq"
      },
      "execution_count": null,
      "outputs": []
    },
    {
      "cell_type": "markdown",
      "source": [
        "### Step 7: return value"
      ],
      "metadata": {
        "id": "N93WdUHhDqKq"
      }
    },
    {
      "cell_type": "code",
      "source": [
        "#------------------------------------\n",
        "# 從1加到100\n",
        "#------------------------------------\n",
        "def add100():\n",
        "    i = 1\n",
        "    sum = 0\n",
        "    while i <= 100:\n",
        "        sum += i\n",
        "        i += 1\n",
        "    return sum\n",
        "\n",
        "a = add100()\n",
        "print(a)\n",
        "print(type(a))"
      ],
      "metadata": {
        "id": "9W1eLv9XDsTk"
      },
      "execution_count": null,
      "outputs": []
    },
    {
      "cell_type": "markdown",
      "source": [
        "### Step 8: multiple return values"
      ],
      "metadata": {
        "id": "oAmX-M55DvCD"
      }
    },
    {
      "cell_type": "code",
      "source": [
        "def cm_2_feet_and_inch(cm):\n",
        "    inch = cm/2.54\n",
        "    feet = inch //12\n",
        "    inch = inch %12\n",
        "    return feet, inch"
      ],
      "metadata": {
        "id": "VcMSR1kiDvsA"
      },
      "execution_count": null,
      "outputs": []
    },
    {
      "cell_type": "code",
      "source": [
        "num = input()\n",
        "cm = float(num) #centimeters\n",
        "i, f = cm_2_feet_and_inch(cm)\n",
        "print(f\"{cm:.2f} cm= {i:.0f} feets {f:.2f} inches\")"
      ],
      "metadata": {
        "id": "4MmLcHzdDyDT"
      },
      "execution_count": null,
      "outputs": []
    },
    {
      "cell_type": "markdown",
      "source": [
        "## Topic 7-遞迴函數 (Recursion)"
      ],
      "metadata": {
        "id": "WePw4wd8D-Vr"
      }
    },
    {
      "cell_type": "markdown",
      "source": [
        "### Step 1: 使用迴圈的階乘 (Factorial)計算\n",
        "\n",
        "$n! = 1 * 2 * ... * n$"
      ],
      "metadata": {
        "id": "TZEN3HGKEAEM"
      }
    },
    {
      "cell_type": "code",
      "source": [
        "def factorial_loop (n):\n",
        "    factor = 1\n",
        "    for i in range(1,n+1):\n",
        "        factor *= i\n",
        "    return factor\n",
        "print(factorial_loop(10))"
      ],
      "metadata": {
        "id": "_Cw5t3CIEFqr"
      },
      "execution_count": null,
      "outputs": []
    },
    {
      "cell_type": "markdown",
      "source": [
        "### Step 2: 使用遞迴的階乘 (Factorial)計算"
      ],
      "metadata": {
        "id": "Mo3CXE69EIec"
      }
    },
    {
      "cell_type": "code",
      "source": [
        "def factorial(n):\n",
        "    if n == 0 or n == 1:\n",
        "        return 1\n",
        "    else:\n",
        "        return n * factorial(n - 1)\n",
        "\n",
        "print(factorial_loop(10))"
      ],
      "metadata": {
        "id": "OQ01gUvQEKRK"
      },
      "execution_count": null,
      "outputs": []
    }
  ]
}