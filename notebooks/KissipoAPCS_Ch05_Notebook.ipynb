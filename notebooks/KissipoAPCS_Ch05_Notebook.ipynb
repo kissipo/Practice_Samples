{
  "cells": [
    {
      "cell_type": "markdown",
      "metadata": {
        "id": "EUjJ7ImLnPVr"
      },
      "source": [
        "![image](https://www.python.org/static/img/python-logo.png)\n",
        "# 啟思博學習APCS (實作題)-Chapter 05\n",
        "[![Open In Colab](https://colab.research.google.com/assets/colab-badge.svg)](https://colab.research.google.com/github/googlecolab/colabtools/blob/master/notebooks/colab-github-demo.ipynb)\n"
      ]
    },
    {
      "cell_type": "markdown",
      "metadata": {
        "id": "RWTPoyw2IyNr"
      },
      "source": [
        "# IPO model-5\n",
        "\n",
        "![image](https://i.ibb.co/ZzFNzyP/ipo6.png)\n"
      ]
    },
    {
      "cell_type": "markdown",
      "metadata": {
        "id": "Inv9OFALaipt"
      },
      "source": [
        "## Topic 1(主題1)-輸入參數的複習\n",
        "\n",
        "```\n",
        "input()\n",
        "```"
      ]
    },
    {
      "cell_type": "markdown",
      "metadata": {
        "id": "Bs1xyWEeaoUM"
      },
      "source": [
        "### Step 1: 輸入一個字串參數"
      ]
    },
    {
      "cell_type": "code",
      "execution_count": null,
      "metadata": {
        "id": "TtoW5CKAaro-"
      },
      "outputs": [],
      "source": [
        "instr = input()\n",
        "print(instr)"
      ]
    },
    {
      "cell_type": "markdown",
      "metadata": {
        "id": "be827bE0atO4"
      },
      "source": [
        "### Step 2: 輸入一個整數參數"
      ]
    },
    {
      "cell_type": "code",
      "execution_count": null,
      "metadata": {
        "id": "d4PgHpQJaydE"
      },
      "outputs": [],
      "source": [
        "instr = input()\n",
        "val = int(instr)\n",
        "print(val)"
      ]
    },
    {
      "cell_type": "code",
      "execution_count": null,
      "metadata": {
        "id": "Kgi4EZvna0RK"
      },
      "outputs": [],
      "source": [
        "#合併輸入和整數的轉換\n",
        "val = int(input())\n",
        "print(val)"
      ]
    },
    {
      "cell_type": "markdown",
      "metadata": {
        "id": "svAKkh6Sa1wt"
      },
      "source": [
        "### Step 3: 輸入一個浮點數參數"
      ]
    },
    {
      "cell_type": "code",
      "execution_count": null,
      "metadata": {
        "id": "0Pw64quNa5ux"
      },
      "outputs": [],
      "source": [
        "instr = input()\n",
        "val = float(instr)\n",
        "print(val)"
      ]
    },
    {
      "cell_type": "code",
      "execution_count": null,
      "metadata": {
        "id": "_qg9bd3Va7Ko"
      },
      "outputs": [],
      "source": [
        "#合併輸入和浮點數轉換\n",
        "val = float(input())\n",
        "print(val)"
      ]
    },
    {
      "cell_type": "markdown",
      "metadata": {
        "id": "eUEUZlEDa93a"
      },
      "source": [
        "### Step 4: 輸入二個字串參數"
      ]
    },
    {
      "cell_type": "code",
      "execution_count": null,
      "metadata": {
        "id": "phe48kYmbB-I"
      },
      "outputs": [],
      "source": [
        "instr = input()\n",
        "paras = instr.split()\n",
        "a = paras[0]\n",
        "b = paras[1]\n",
        "print(f\"{a} {b}\")"
      ]
    },
    {
      "cell_type": "code",
      "execution_count": null,
      "metadata": {
        "id": "LSB42VfebDqS"
      },
      "outputs": [],
      "source": [
        "#合併輸入和字串分割\n",
        "a, b = input().split()\n",
        "print(f\"{a} {b}\")"
      ]
    },
    {
      "cell_type": "markdown",
      "metadata": {
        "id": "qyAccngpbFLE"
      },
      "source": [
        "### Step 5: 輸入三個整數參數"
      ]
    },
    {
      "cell_type": "code",
      "execution_count": null,
      "metadata": {
        "id": "VW0SpNrrbIfh"
      },
      "outputs": [],
      "source": [
        "instr = input()\n",
        "paras = instr.split()\n",
        "a = int(paras[0])\n",
        "b = int(paras[1])\n",
        "c = int(paras[2])\n",
        "print(f\"a={a} b={b} c={c}\")"
      ]
    },
    {
      "cell_type": "code",
      "execution_count": null,
      "metadata": {
        "id": "-tPyZMLzbKAG"
      },
      "outputs": [],
      "source": [
        "#合併輸入和數字轉換\n",
        "a, b, c = map(int, input().split())\n",
        "print(f\"a={a} b={b} c={c}\")"
      ]
    },
    {
      "cell_type": "markdown",
      "metadata": {
        "id": "vdCSlTjmc_zp"
      },
      "source": [
        "## Topic 2(主題2)-格式化輸出的複習"
      ]
    },
    {
      "cell_type": "markdown",
      "metadata": {
        "id": "lOiVTnw4dDHK"
      },
      "source": [
        "### Step 1: 格式化輸出多個變數"
      ]
    },
    {
      "cell_type": "code",
      "execution_count": null,
      "metadata": {
        "id": "Mi840XyldGJt"
      },
      "outputs": [],
      "source": [
        "year = 2016\n",
        "event = 'Referendum'\n",
        "print(f'Results of the {year} {event}')"
      ]
    },
    {
      "cell_type": "markdown",
      "metadata": {
        "id": "3SkeqvwqdItw"
      },
      "source": [
        "### Step 2: 控制格式化輸出的寛度和排列"
      ]
    },
    {
      "cell_type": "code",
      "execution_count": null,
      "metadata": {
        "id": "7zF-f-bndMCo"
      },
      "outputs": [],
      "source": [
        "yes_votes = 42_572_654\n",
        "no_votes = 43_132_495\n",
        "percentage = yes_votes / (yes_votes + no_votes)\n",
        "print(f'{yes_votes:9} YES votes {percentage:2.2%}')"
      ]
    },
    {
      "cell_type": "markdown",
      "metadata": {
        "id": "YmsLqua1nw8T"
      },
      "source": [
        "## Topic 3(主題3)-字串的索引(Indexing)和切片(Slicing)"
      ]
    },
    {
      "cell_type": "markdown",
      "metadata": {
        "id": "_3rpfyQXn82h"
      },
      "source": [
        "### Step 1: 字串的索引(Indexing)\n",
        "\n",
        "string.index(value, start, end)"
      ]
    },
    {
      "cell_type": "code",
      "execution_count": null,
      "metadata": {
        "id": "UW_6EPN9o0wB"
      },
      "outputs": [],
      "source": [
        "txt = \"Hello, welcome to my world.\"\n",
        "x = txt.index(\"welcome\")\n",
        "print(x)"
      ]
    },
    {
      "cell_type": "code",
      "execution_count": null,
      "metadata": {
        "id": "2bdb9Jn4p-nY"
      },
      "outputs": [],
      "source": [
        "txt = \"Hello, welcome to my world.\"\n",
        "print(txt[7])"
      ]
    },
    {
      "cell_type": "code",
      "execution_count": null,
      "metadata": {
        "id": "Mny9RMSoqFb_"
      },
      "outputs": [],
      "source": [
        "txt = \"Hello, welcome to my world.\"\n",
        "print(txt[7:14])"
      ]
    },
    {
      "cell_type": "markdown",
      "metadata": {
        "id": "tyMXFpzFoVz1"
      },
      "source": [
        "### Step 2: 字串的切片(Slicing)"
      ]
    },
    {
      "cell_type": "code",
      "execution_count": null,
      "metadata": {
        "id": "l3vophVGpKNf"
      },
      "outputs": [],
      "source": [
        "str1 = \"Hello, World!\"\n",
        "print(str1[7:13])"
      ]
    },
    {
      "cell_type": "code",
      "execution_count": null,
      "metadata": {
        "id": "uHYf_6W1pS0P"
      },
      "outputs": [],
      "source": [
        "str1 = \"Hello, World!\"\n",
        "print(str1[7:])"
      ]
    },
    {
      "cell_type": "code",
      "execution_count": null,
      "metadata": {
        "id": "Mm_zk9-fpWoI"
      },
      "outputs": [],
      "source": [
        "str1 = \"Hello, World!\"\n",
        "print(str1[-6:])"
      ]
    },
    {
      "cell_type": "code",
      "execution_count": null,
      "metadata": {
        "id": "sEymw9V2pv9x"
      },
      "outputs": [],
      "source": [
        "str1 = \"Hello, World!\"\n",
        "print(str1[-6:-3])"
      ]
    },
    {
      "cell_type": "code",
      "execution_count": null,
      "metadata": {
        "id": "7-5003Nxpi0S"
      },
      "outputs": [],
      "source": [
        "str1 = \"Hello, World!\"\n",
        "print(str1[::-1])"
      ]
    },
    {
      "cell_type": "markdown",
      "metadata": {
        "id": "kLe1GoiTtrgI"
      },
      "source": [
        "## Topic 4(主題4)-字串的函數\n",
        "* 分割字串 str.split()\n",
        "* 大小寫 str.lower(),str.upper()\n",
        "* 去頭去尾 str.strip(),str.rstrip(),str.lstrip()"
      ]
    },
    {
      "cell_type": "markdown",
      "metadata": {
        "id": "gg7LPehVd2RP"
      },
      "source": [
        "### Step 1: 分割 str.split()"
      ]
    },
    {
      "cell_type": "code",
      "execution_count": null,
      "metadata": {
        "id": "ThLtS25cd3n8"
      },
      "outputs": [],
      "source": [
        "original_string = \"ab_cd_ef\"\n",
        "split_string = original_string.split(\"_\")#splits string by \"_\"\n",
        "print(split_string)"
      ]
    },
    {
      "cell_type": "code",
      "execution_count": null,
      "metadata": {
        "id": "vB1EDG0wd5_E"
      },
      "outputs": [],
      "source": [
        "original_string = \"ab cd ef\"\n",
        "split_string = original_string.split()#splits string by \" \"\n",
        "print(split_string)"
      ]
    },
    {
      "cell_type": "markdown",
      "metadata": {
        "id": "mIAEJ4Rzd8eE"
      },
      "source": [
        "### Step 2: 大小寫 str.lower(),str.upper()"
      ]
    },
    {
      "cell_type": "code",
      "execution_count": null,
      "metadata": {
        "id": "b2GbyLfId-0U"
      },
      "outputs": [],
      "source": [
        "ss = \"Google was founded in September 1998 by Larry Page and Sergey Brin\";\n",
        "s1 = ss.lower()\n",
        "s2 = ss.upper()\n",
        "print(s1)\n",
        "print(s2)"
      ]
    },
    {
      "cell_type": "markdown",
      "metadata": {
        "id": "mq7WEsYBeFpI"
      },
      "source": [
        "Step 3: 去頭去尾 str.strip(),str.rstrip(),str.lstrip()"
      ]
    },
    {
      "cell_type": "code",
      "execution_count": null,
      "metadata": {
        "id": "GkIgw_3ReH5O"
      },
      "outputs": [],
      "source": [
        "ss = \"   Google was founded in September 1998 by Larry Page and Sergey Brin   \";\n",
        "s1 = ss.strip() #去頭尾\n",
        "s2 = ss.rstrip() #去尾\n",
        "s3 = ss.lstrip() #去頭\n",
        "print(s1)\n",
        "print(s2)\n",
        "print(s3)"
      ]
    },
    {
      "cell_type": "markdown",
      "metadata": {
        "id": "VVGGBcx5eKMm"
      },
      "source": [
        "## Topic 5(主題5)-ascii/unicode 轉換的函數"
      ]
    },
    {
      "cell_type": "markdown",
      "metadata": {
        "id": "pl60WTNYeUdo"
      },
      "source": [
        "### Step 1: ord()函數\n",
        "\n",
        "ord()給定一個長度為1的字符串，當參數為unicode對象時，返回一個整數，該整數表示字符的Unicode代碼點；如果參數為8位字符串，則返回ascii的值。"
      ]
    },
    {
      "cell_type": "code",
      "execution_count": null,
      "metadata": {
        "id": "vxrWnIOZe3nw"
      },
      "outputs": [],
      "source": [
        "# 輸入字元\n",
        "ch = input(\"Keyin a character: \")\n",
        "print( \"The ascii code of character {} is {}\".format(ch, ord(ch)))"
      ]
    },
    {
      "cell_type": "markdown",
      "metadata": {
        "id": "tzMk81o9e5pg"
      },
      "source": [
        "### Step 2: chr()函數"
      ]
    },
    {
      "cell_type": "code",
      "execution_count": null,
      "metadata": {
        "id": "7Jml2rqjfHjs"
      },
      "outputs": [],
      "source": [
        "s1 = \"大家好\"\n",
        "s2 = \"\\u5927\\u5bb6\\u597d\"\n",
        "print(s1)\n",
        "print(s2)"
      ]
    },
    {
      "cell_type": "code",
      "execution_count": null,
      "metadata": {
        "id": "v34lFXZFfKPR"
      },
      "outputs": [],
      "source": [
        "s1 = \"大家好\"\n",
        "s2 = \"\\u5927\\u5bb6\\u597d\"\n",
        "print(\"The unicode code of characters {} is {:d} {:d} {:d}\".format(s1, ord(s1[0]), ord(s1[1]), ord(s1[2])))"
      ]
    },
    {
      "cell_type": "code",
      "execution_count": null,
      "metadata": {
        "id": "n07-PA0IfML4"
      },
      "outputs": [],
      "source": [
        "s1 = \"大家好\"\n",
        "s2 = \"\\u5927\\u5bb6\\u597d\"\n",
        "print(\"The unicode code of characters {} is \\\\u{:x} \\\\u{:x} \\\\u{:x}\".format(s1, ord(s1[0]), ord(s1[1]), ord(s1[2])))"
      ]
    },
    {
      "cell_type": "code",
      "execution_count": null,
      "metadata": {
        "id": "ow0QusybfN_N"
      },
      "outputs": [],
      "source": [
        "# 輸入字元\n",
        "ch = input(\"Keyin a character: \")\n",
        "print( \"The unicode code of character {} is {:d}\".format(ch, ord(ch))) #:d 10進位數\n",
        "print( \"The unicode code of character {} is \\\\u{:x}\".format(ch, ord(ch))) #:x 16進位數"
      ]
    },
    {
      "cell_type": "code",
      "execution_count": null,
      "metadata": {
        "id": "86D9OPuLfQy1"
      },
      "outputs": [],
      "source": [
        "code = 23478\n",
        "print(f\"The unicode code of code {code} is {chr(code)}\") # 10進位數"
      ]
    },
    {
      "cell_type": "code",
      "execution_count": null,
      "metadata": {
        "id": "6xGkCZYtfTEp"
      },
      "outputs": [],
      "source": [
        "code = \"23478\"\n",
        "code = int(code)\n",
        "print(f\"The unicode code of code {code} is {chr(code)}\") # 10進位數"
      ]
    },
    {
      "cell_type": "code",
      "execution_count": null,
      "metadata": {
        "id": "vVOXaiSzfUws"
      },
      "outputs": [],
      "source": [
        "code = \"597d\"# 16進位數\n",
        "code = int(code,16)# 16進位數轉換\n",
        "print(f\"The unicode code of code {code:x} is {chr(code)}\") # 16進位數"
      ]
    },
    {
      "cell_type": "markdown",
      "metadata": {
        "id": "pzK7qPJU8xkg"
      },
      "source": [
        "## Topic 6(主題6)-搜尋子字串"
      ]
    },
    {
      "cell_type": "markdown",
      "metadata": {
        "id": "fW29Jwf684VH"
      },
      "source": [
        "### Step 1: index() 函數"
      ]
    },
    {
      "cell_type": "code",
      "execution_count": null,
      "metadata": {
        "id": "oGwKWwyg9FqE"
      },
      "outputs": [],
      "source": [
        "txt = \"Hello, welcome to my world.\"\n",
        "x = txt.index(\"welcome\")\n",
        "print(x)"
      ]
    },
    {
      "cell_type": "code",
      "execution_count": null,
      "metadata": {
        "id": "ECeip0t7-px2"
      },
      "outputs": [],
      "source": [
        "txt = \"Hello, welcome to my world.\"\n",
        "x = txt.index(\"test\")\n",
        "print(x)"
      ]
    },
    {
      "cell_type": "markdown",
      "metadata": {
        "id": "i3_b17_0-YrC"
      },
      "source": [
        "### Step 2: find() 函數"
      ]
    },
    {
      "cell_type": "code",
      "execution_count": null,
      "metadata": {
        "id": "tgWMHENb-ow8"
      },
      "outputs": [],
      "source": [
        "txt = \"Hello, welcome to my world.\"\n",
        "x = txt.index(\"welcome\")\n",
        "print(x)"
      ]
    },
    {
      "cell_type": "code",
      "execution_count": null,
      "metadata": {
        "id": "TpdAMO2V-s_E"
      },
      "outputs": [],
      "source": [
        "txt = \"Hello, welcome to my world.\"\n",
        "x = txt.find(\"test\")\n",
        "print(x)"
      ]
    }
  ],
  "metadata": {
    "colab": {
      "provenance": []
    },
    "kernelspec": {
      "display_name": "Python 3",
      "name": "python3"
    }
  },
  "nbformat": 4,
  "nbformat_minor": 0
}