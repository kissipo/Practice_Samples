{
  "nbformat": 4,
  "nbformat_minor": 0,
  "metadata": {
    "colab": {
      "provenance": []
    },
    "kernelspec": {
      "name": "python3",
      "display_name": "Python 3"
    },
    "language_info": {
      "name": "python"
    }
  },
  "cells": [
    {
      "cell_type": "markdown",
      "source": [
        "# KissipoAPCS_Ch08_Notebook"
      ],
      "metadata": {
        "id": "4ZQiZNPHFv_t"
      }
    },
    {
      "cell_type": "markdown",
      "source": [
        "## 1 運貨站\n",
        "* 資料結構\n",
        "* 演算法"
      ],
      "metadata": {
        "id": "TlkU4MQcv2qX"
      }
    },
    {
      "cell_type": "markdown",
      "source": [
        "### Step 1:輸入"
      ],
      "metadata": {
        "id": "PtY_O9AXv7Tq"
      }
    },
    {
      "cell_type": "code",
      "source": [
        "#輸入型式 Input pattern"
      ],
      "metadata": {
        "id": "Fr7eb4nGv9WO"
      },
      "execution_count": null,
      "outputs": []
    },
    {
      "cell_type": "code",
      "source": [
        "#輸入範例1 Input sample 1"
      ],
      "metadata": {
        "id": "Hrbgryi2wUts"
      },
      "execution_count": null,
      "outputs": []
    },
    {
      "cell_type": "markdown",
      "source": [
        "### Step 2:演算法和輸出"
      ],
      "metadata": {
        "id": "wvzt8Urev-zJ"
      }
    },
    {
      "cell_type": "code",
      "source": [],
      "metadata": {
        "id": "ZG8PBgX9v_Zt"
      },
      "execution_count": null,
      "outputs": []
    },
    {
      "cell_type": "markdown",
      "source": [
        "### Solution : 合併程式"
      ],
      "metadata": {
        "id": "kmgWj2PjwBYC"
      }
    },
    {
      "cell_type": "code",
      "source": [],
      "metadata": {
        "id": "3uVspqX5wB0a"
      },
      "execution_count": null,
      "outputs": []
    },
    {
      "cell_type": "markdown",
      "source": [
        "## 2 括號的正確性\n",
        "https://oj.kissipo.org/problem/C0025\n",
        "\n",
        "* 資料結構\n",
        "* 演算法\n",
        "\n"
      ],
      "metadata": {
        "id": "gaTntko_9lnt"
      }
    },
    {
      "cell_type": "markdown",
      "source": [
        "### Step 1:輸入"
      ],
      "metadata": {
        "id": "yqro3k1Z-SMi"
      }
    },
    {
      "cell_type": "code",
      "source": [
        "#輸入型式 Input pattern"
      ],
      "metadata": {
        "id": "1o1M3Rlc-Th1"
      },
      "execution_count": null,
      "outputs": []
    },
    {
      "cell_type": "markdown",
      "source": [
        "### Step 2:演算法和輸出"
      ],
      "metadata": {
        "id": "vyg8RzFc-U_1"
      }
    },
    {
      "cell_type": "code",
      "source": [],
      "metadata": {
        "id": "bINA1GnE-VnX"
      },
      "execution_count": null,
      "outputs": []
    },
    {
      "cell_type": "markdown",
      "source": [
        "### Solution : 合併程式"
      ],
      "metadata": {
        "id": "JNE0D6C2-XI0"
      }
    },
    {
      "cell_type": "code",
      "source": [],
      "metadata": {
        "id": "gXXENZHc-Xit"
      },
      "execution_count": null,
      "outputs": []
    }
  ]
}