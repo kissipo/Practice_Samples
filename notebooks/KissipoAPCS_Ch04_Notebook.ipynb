{
  "cells": [
    {
      "cell_type": "markdown",
      "metadata": {
        "id": "EUjJ7ImLnPVr"
      },
      "source": [
        "![image](https://www.python.org/static/img/python-logo.png)\n",
        "# 啟思博學習APCS (實作題)-Chapter 04\n",
        "![Open In Colab](https://colab.research.google.com/assets/colab-badge.svg)\n",
        "\n",
        "\n"
      ]
    },
    {
      "cell_type": "markdown",
      "metadata": {
        "id": "oidBbF3itm_y"
      },
      "source": [
        "#### Week4-條件式(condition)和資料容器（Container）\n",
        "\n",
        "![image](https://i.ibb.co/B43QZL0/ipo6.png)"
      ]
    },
    {
      "cell_type": "markdown",
      "metadata": {
        "id": "kLe1GoiTtrgI"
      },
      "source": [
        "## Topic 1(主題1)-if條件陳述式/if condition statement\n",
        "<img src=\"https://i.ibb.co/sv727Wq/if-condition.png\" alt=\"alt text\" width=\"500\">"
      ]
    },
    {
      "cell_type": "markdown",
      "metadata": {
        "id": "4I9p3MazN9S2"
      },
      "source": [
        "Body mass index (BMI) is a person’s weight in kilograms divided by the square of height in meters. BMI is an inexpensive and easy screening method for weight category—underweight, healthy weight, overweight, and obesity.\n",
        "https://www.cdc.gov/healthyweight/assessing/bmi/adult_bmi/index.html"
      ]
    },
    {
      "cell_type": "markdown",
      "metadata": {
        "id": "cHiXWmApnZ_W"
      },
      "source": [
        "### Step 1: 布林值/boolean\n",
        "True / False"
      ]
    },
    {
      "cell_type": "code",
      "execution_count": null,
      "metadata": {
        "id": "8JL0O3Dw0hVK"
      },
      "outputs": [],
      "source": [
        "print(True)\n",
        "print(False)"
      ]
    },
    {
      "cell_type": "code",
      "execution_count": null,
      "metadata": {
        "id": "apKn4EDZ_ODF"
      },
      "outputs": [],
      "source": [
        "print(5>3)\n",
        "print(5<3)"
      ]
    },
    {
      "cell_type": "code",
      "execution_count": null,
      "metadata": {
        "id": "wkacV86EAGxJ"
      },
      "outputs": [],
      "source": [
        "bmi = 21.0\n",
        "print(bmi>24.0) #24.0 is Overweight"
      ]
    },
    {
      "cell_type": "code",
      "source": [],
      "metadata": {
        "id": "peK8HTszR34O"
      },
      "execution_count": null,
      "outputs": []
    },
    {
      "cell_type": "code",
      "source": [],
      "metadata": {
        "id": "RqLgxzZOR3yS"
      },
      "execution_count": null,
      "outputs": []
    },
    {
      "cell_type": "code",
      "execution_count": null,
      "metadata": {
        "id": "cuVMCuKCARYU"
      },
      "outputs": [],
      "source": [
        "bmi = 18.0\n",
        "print(bmi<18.5) #18.5 is too skinny"
      ]
    },
    {
      "cell_type": "code",
      "execution_count": null,
      "metadata": {
        "id": "7honmgYyqx0w"
      },
      "outputs": [],
      "source": [
        "bmi = float(input(\"Input yout bmi\"))\n",
        "print(bmi>24.0)"
      ]
    },
    {
      "cell_type": "markdown",
      "metadata": {
        "id": "DAMEz3DKBa0P"
      },
      "source": [
        "### Step 2: if-condition\n",
        "```\n",
        "if 布林一:\n",
        "    # 布林一被評估為 True 時候執行縮排的程式碼\n",
        "elif 布林二:\n",
        "    # 布林二被評估為 True 時候執行縮排的程式碼\n",
        "else:\n",
        "    # 布林一與布林二都被評估為 False 時候執行縮排的程式碼\n",
        "```"
      ]
    },
    {
      "cell_type": "code",
      "execution_count": null,
      "metadata": {
        "id": "eF-jycTxnY9-"
      },
      "outputs": [],
      "source": [
        "bmi = float(input(\"Input yout bmi\"))\n",
        "if bmi>30.0:\n",
        "  print(\"Obesity\")"
      ]
    },
    {
      "cell_type": "markdown",
      "metadata": {
        "id": "ElEZG60-GOHU"
      },
      "source": [
        "### Step 3: if-else-condition"
      ]
    },
    {
      "cell_type": "code",
      "execution_count": null,
      "metadata": {
        "id": "LPyqM8wQBORr"
      },
      "outputs": [],
      "source": [
        "bmi = float(input(\"Input yout bmi\"))\n",
        "if bmi>24.0:\n",
        "  print(\"Overweight\")\n",
        "else:\n",
        "  print(\"Healthy weight\")"
      ]
    },
    {
      "cell_type": "markdown",
      "metadata": {
        "id": "QRSb8fBbGXKc"
      },
      "source": [
        "### Step 4: if-elif-else-condition"
      ]
    },
    {
      "cell_type": "code",
      "execution_count": null,
      "metadata": {
        "id": "EbZnPm_GnzgW"
      },
      "outputs": [],
      "source": [
        "bmi = float(input(\"Input yout bmi\"))\n",
        "if bmi>24.0:\n",
        "  print(\"Overweight\")\n",
        "elif bmi<18.5:\n",
        "  print(\"Underweight\")\n",
        "else:\n",
        "  print(\"Healthy weight\")"
      ]
    },
    {
      "cell_type": "markdown",
      "metadata": {
        "id": "uFtavdB97bDV"
      },
      "source": [
        "## Topic 2(主題2)-運算子/Operator\n"
      ]
    },
    {
      "cell_type": "markdown",
      "metadata": {
        "id": "OyBIVgWcCuwS"
      },
      "source": [
        "### Step 1: 比較運算子/Comparison Operators: >, >=, < , <=, ==\n",
        "| Operators|      Running      |\n",
        "|----------|:-------------:|\n",
        "| > |  greater than |\n",
        "| < |    less than   |\n",
        "| >= | greater than or equal |\n",
        "| <= | less than or equal |\n",
        "| == | equal |\n",
        "| != | not equall |"
      ]
    },
    {
      "cell_type": "code",
      "execution_count": null,
      "metadata": {
        "id": "yIkqDNWgHZvH"
      },
      "outputs": [],
      "source": [
        "#判斷奇數偶數\n",
        "a = 9\n",
        "if a % 2 == 0:\n",
        "    print(\"{} is even\".format(a))\n",
        "else:\n",
        "    print(\"{} is odd\".format(a))\n",
        "b = 8\n",
        "if b % 2 == 0:\n",
        "    print(\"{} is even\".format(b))\n",
        "else:\n",
        "    print(\"{} is odd\".format(b))"
      ]
    },
    {
      "cell_type": "code",
      "execution_count": null,
      "metadata": {
        "id": "sopZKSuGIUFb"
      },
      "outputs": [],
      "source": [
        "#判斷奇數偶數\n",
        "a = 9\n",
        "if a % 2 != 1:\n",
        "    print(\"{} is even\".format(a))\n",
        "else:\n",
        "    print(\"{} is odd\".format(a))\n",
        "b = 8\n",
        "if b % 2 < 1:\n",
        "    print(\"{} is even\".format(b))\n",
        "else:\n",
        "    print(\"{} is odd\".format(b))"
      ]
    },
    {
      "cell_type": "markdown",
      "metadata": {
        "id": "VnMo1y-kujl2"
      },
      "source": [
        "### Step 2: 布林運算子/Boolean Operators: and, or, not"
      ]
    },
    {
      "cell_type": "code",
      "execution_count": null,
      "metadata": {
        "id": "uJbEBoQR3QTM"
      },
      "outputs": [],
      "source": [
        "bmi = float(input(\"Input yout bmi\"))\n",
        "if 18.5<= bmi and bmi<24.0:\n",
        "  print(\"Healthy weight\")"
      ]
    },
    {
      "cell_type": "code",
      "execution_count": null,
      "metadata": {
        "id": "anlPO3msOw-w"
      },
      "outputs": [],
      "source": [
        "bmi = float(input(\"Input yout bmi\"))\n",
        "if 18.5<= bmi <24.0:\n",
        "  print(\"Healthy weight\")"
      ]
    },
    {
      "cell_type": "code",
      "execution_count": null,
      "metadata": {
        "id": "hUIvrQfyNRZm"
      },
      "outputs": [],
      "source": [
        "bmi = float(input(\"Input yout bmi\"))\n",
        "if 18.5<= bmi and bmi<24.0:\n",
        "  print(\"Healthy weight\")\n",
        "else:\n",
        "  if bmi>24.0:\n",
        "    print(\"Overweight\")\n",
        "  else:\n",
        "    print(\"Underweight\")"
      ]
    },
    {
      "cell_type": "code",
      "execution_count": null,
      "metadata": {
        "id": "Wyj_ViyqJIgU"
      },
      "outputs": [],
      "source": [
        "score1 = int(input(\"Input yout score1\"))\n",
        "score2 = int(input(\"Input yout score2\"))\n",
        "if score1 > 60 and score2 > 60:\n",
        "    print(\"All pass\")\n",
        "else:\n",
        "    print(\"Have failed grades\")"
      ]
    },
    {
      "cell_type": "code",
      "execution_count": null,
      "metadata": {
        "id": "v5lWpTU2KKVD"
      },
      "outputs": [],
      "source": [
        "score1 = int(input(\"Input yout score1\"))\n",
        "score2 = int(input(\"Input yout score2\"))\n",
        "if score1 < 60 or score2 < 60:\n",
        "    print(\"Have failed grades\")\n",
        "else:\n",
        "    print(\"All pass\")"
      ]
    },
    {
      "cell_type": "code",
      "execution_count": null,
      "metadata": {
        "id": "B5pxMd--KX5J"
      },
      "outputs": [],
      "source": [
        "score1 = int(input(\"Input yout score1\"))\n",
        "score2 = int(input(\"Input yout score2\"))\n",
        "if not(score1 < 60 or score2 < 60):\n",
        "    print(\"All pass\")\n",
        "else:\n",
        "    print(\"Have failed grades\")"
      ]
    },
    {
      "cell_type": "markdown",
      "metadata": {
        "id": "Qx7lFg0PK4HE"
      },
      "source": [
        "## Topic 3(主題3)-for-loop-if-condition\n"
      ]
    },
    {
      "cell_type": "markdown",
      "metadata": {
        "id": "0cWcSGGsIPKJ"
      },
      "source": [
        "### Step 7:找出一個數字的所有因數"
      ]
    },
    {
      "cell_type": "code",
      "execution_count": null,
      "metadata": {
        "id": "CFvA4-aVIyO7"
      },
      "outputs": [],
      "source": [
        "num = int(input())\n",
        "for i in range(1,num+1):\n",
        "  if num % i ==0:\n",
        "    print(\"{} \".format(i), end=\"\")"
      ]
    },
    {
      "cell_type": "markdown",
      "metadata": {
        "id": "mIx72gLAJhYE"
      },
      "source": [
        "### Step 8:決定一個數字是不是質數(prime number), 除了1和本身之外，沒有別的因數"
      ]
    },
    {
      "cell_type": "code",
      "execution_count": null,
      "metadata": {
        "id": "jRZ9QVrDJf1i"
      },
      "outputs": [],
      "source": [
        "num = int(input())\n",
        "count  = 0\n",
        "for i in range(2,num):\n",
        "  if num % i ==0:\n",
        "    count+=1\n",
        "    print(\"{} \".format(i), end=\"\")\n",
        "print()\n",
        "if count ==0:\n",
        "  print(\"{} is a prime number\".format(num))\n",
        "else:\n",
        "  print(\"{} is not a prime number\".format(num))"
      ]
    },
    {
      "cell_type": "markdown",
      "metadata": {
        "id": "ama-LSfDLT7k"
      },
      "source": [
        "### Step 9:break-for-loop"
      ]
    },
    {
      "cell_type": "code",
      "execution_count": null,
      "metadata": {
        "id": "gkSECwcmLbHX"
      },
      "outputs": [],
      "source": [
        "num = int(input())\n",
        "count  = 0\n",
        "for i in range(2,num):\n",
        "  if num % i ==0:\n",
        "    count+=1\n",
        "    break\n",
        "if count ==0:\n",
        "  print(\"{} is a prime number\".format(num))\n",
        "else:\n",
        "  print(\"{} is not a prime number\".format(num))"
      ]
    },
    {
      "cell_type": "markdown",
      "metadata": {
        "id": "X2xhaz4gP09T"
      },
      "source": [
        "### Step 10:continue-for-loop"
      ]
    },
    {
      "cell_type": "code",
      "execution_count": null,
      "metadata": {
        "id": "I-KxXcBLthjv"
      },
      "outputs": [],
      "source": [
        "for c in 'Asia University':\n",
        " if c == 'i':\n",
        "   continue\n",
        " print ('Current Letter :', c)"
      ]
    },
    {
      "cell_type": "markdown",
      "metadata": {
        "id": "nQJ1uTEYvPwL"
      },
      "source": [
        "## Topic 4(主題4)-While迴圈(While Loop)\n",
        "```\n",
        "while 條件判斷式:\n",
        "    # 程式碼\n",
        "```"
      ]
    },
    {
      "cell_type": "markdown",
      "metadata": {
        "id": "airkgYa7QGeF"
      },
      "source": [
        "### Step 1: 用一個數字控制執行次數"
      ]
    },
    {
      "cell_type": "code",
      "execution_count": null,
      "metadata": {
        "id": "6DZzMyq8QRm7"
      },
      "outputs": [],
      "source": [
        "for i in range(10):\n",
        "  print(i, end=\" \")"
      ]
    },
    {
      "cell_type": "code",
      "execution_count": null,
      "metadata": {
        "id": "oXvvqxB7Qb8U"
      },
      "outputs": [],
      "source": [
        "i = 1\n",
        "while i < 10:\n",
        "  print(i, end=\" \")\n",
        "  i += 1"
      ]
    },
    {
      "cell_type": "code",
      "execution_count": null,
      "metadata": {
        "id": "FlZxROlbRJ8H"
      },
      "outputs": [],
      "source": [
        "i = 1\n",
        "while True:\n",
        "  print(i, end=\" \")\n",
        "  i += 1\n",
        "  if i >=10:\n",
        "    break"
      ]
    },
    {
      "cell_type": "markdown",
      "metadata": {
        "id": "uPq6uvfoQkbG"
      },
      "source": [
        "### Step 2: 用一個迴圈控制程式是否結束"
      ]
    },
    {
      "cell_type": "code",
      "execution_count": null,
      "metadata": {
        "id": "Mfz8ksi3R3zz"
      },
      "outputs": [],
      "source": [
        "i = 1\n",
        "while True:\n",
        "  if input(\"Q for quit?\").lower() == \"q\":\n",
        "    break\n",
        "  print(i, end=\" \")\n",
        "  i += 1\n"
      ]
    },
    {
      "cell_type": "markdown",
      "metadata": {
        "id": "ZagAuSY3SoGS"
      },
      "source": [
        "## Topic 5(主題5)資料容器（Container）\n",
        "\n",
        "Python語言括號有三種，\n",
        "小括號()代表元組(tuple)資料型別、中括號[ ]代表串列(List)資料型別、大括號{ }代表字典(dict)或集合(set)資料型別。序列是由一個範圍內的數字當作索引，字典是由鍵 (key) 來當索引，鍵可以是任何不可變的類型；字串和數字都可以當作鍵值。\n",
        "* 串列把一堆變數放入[]中，形成一排資料\n",
        "* 元組由若干個值藉由逗號區隔而組成\n",
        "* 集合(Set) 是一組無序且沒有重複的元素\n",
        "* 字典（Dictionary）把一堆鍵和值的對應放入{}中，形成可索引資料集合\n",
        "\n"
      ]
    },
    {
      "cell_type": "markdown",
      "metadata": {
        "id": "3gHm3zl0UQTa"
      },
      "source": [
        "### Step 1: 資料容器變數的啟始化"
      ]
    },
    {
      "cell_type": "code",
      "execution_count": null,
      "metadata": {
        "id": "VkxESooRUcxd"
      },
      "outputs": [],
      "source": [
        "fruits = ['orange', 'apple', 'pear', 'banana', 'kiwi', 'apple', 'banana']\n",
        "steps = 1, 3, 5, 6, 9\n",
        "vectors = ((0,0,0), (3, 5, 7), (8, 8, 8))\n",
        "baskets = {'orange', 'apple', 'pear', 'banana', 'kiwi', 'apple', 'banana'}\n",
        "favors = {0:'orange', 7:'apple', 3:'pear', 2:'banana', 6:'kiwi', 4:'apple', 9:'banana'}\n",
        "tel = {'jack': 4098, 'sape': 4139}\n",
        "print(type(fruits))\n",
        "print(type(steps))\n",
        "print(type(vectors))\n",
        "print(type(baskets))\n",
        "print(type(favors))\n",
        "print(type(tel))"
      ]
    },
    {
      "cell_type": "markdown",
      "metadata": {
        "id": "M7S8MXPsWNUn"
      },
      "source": [
        "### Step 2: 資料容器變數的索引"
      ]
    },
    {
      "cell_type": "code",
      "execution_count": null,
      "metadata": {
        "id": "uKN4meLHVbvt"
      },
      "outputs": [],
      "source": [
        "print(fruits[1])\n",
        "print(steps[1])\n",
        "print(vectors[1])\n",
        "print(favors[2])\n",
        "print(tel['sape'])"
      ]
    },
    {
      "cell_type": "markdown",
      "metadata": {
        "id": "7TO4mb1VWoVN"
      },
      "source": [
        "### Step 3: Set comprehensions"
      ]
    },
    {
      "cell_type": "code",
      "execution_count": null,
      "metadata": {
        "id": "nNmbaMGIXXlE"
      },
      "outputs": [],
      "source": [
        "a = {x for x in 'abracadabra' if x not in 'abc'}\n",
        "print(a)"
      ]
    },
    {
      "cell_type": "code",
      "execution_count": null,
      "metadata": {
        "id": "uIubn3oaX366"
      },
      "outputs": [],
      "source": [
        "data={x: x**2 for x in (2, 4, 6)}\n",
        "print(data)"
      ]
    },
    {
      "cell_type": "markdown",
      "metadata": {
        "id": "DvmSJDmEXe2O"
      },
      "source": [
        "### Step 4: Dictionary comprehensions"
      ]
    },
    {
      "cell_type": "code",
      "execution_count": null,
      "metadata": {
        "id": "RwTYn87yGMOu"
      },
      "outputs": [],
      "source": [
        "dict_items([('c', 3), ('d', 4), ('a', 1), ('b', 2)])\n",
        "dict_variable = {key:value for (key,value) in dictonary.items()}"
      ]
    },
    {
      "cell_type": "code",
      "execution_count": null,
      "metadata": {
        "id": "FLaDCdhOGScR"
      },
      "outputs": [],
      "source": [
        "dict1 = {'a': 1, 'b': 2, 'c': 3, 'd': 4, 'e': 5}\n",
        "# Double each value in the dictionary\n",
        "double_dict1 = {k:v*2 for (k,v) in dict1.items()}\n",
        "print(double_dict1)"
      ]
    },
    {
      "cell_type": "markdown",
      "metadata": {
        "id": "kU_-0QkUXwFT"
      },
      "source": [
        "## Topic 6(主題6):使用容器的迴圈"
      ]
    },
    {
      "cell_type": "markdown",
      "metadata": {
        "id": "mpkr-kSbYDry"
      },
      "source": [
        "### Step 1: in 資料容器變數"
      ]
    },
    {
      "cell_type": "code",
      "execution_count": null,
      "metadata": {
        "id": "rWtTgwKqYU_5"
      },
      "outputs": [],
      "source": [
        "steps = 1, 3, 5, 6, 9\n",
        "for x in steps:\n",
        "  print (x**2, end=\" \")"
      ]
    },
    {
      "cell_type": "code",
      "execution_count": null,
      "metadata": {
        "id": "uzNKykBUYjYy"
      },
      "outputs": [],
      "source": [
        "baskets = {'orange', 'apple', 'pear', 'banana', 'kiwi', 'apple', 'banana'}\n",
        "for x in baskets:\n",
        "  print (x, end=\" \")"
      ]
    },
    {
      "cell_type": "markdown",
      "metadata": {
        "id": "vhsCjQI_Yy30"
      },
      "source": [
        "### Step 2: 使用 items()\n"
      ]
    },
    {
      "cell_type": "code",
      "execution_count": null,
      "metadata": {
        "id": "O8Yj6L7xYwaX"
      },
      "outputs": [],
      "source": [
        "tel = {'jack': 4098, 'sape': 4139}\n",
        "for k, v in tel.items():\n",
        " print(k, v)"
      ]
    },
    {
      "cell_type": "markdown",
      "metadata": {
        "id": "saCFuKwCZI8U"
      },
      "source": [
        "### Step 3: 使用 enumerate()"
      ]
    },
    {
      "cell_type": "code",
      "execution_count": null,
      "metadata": {
        "id": "nclgzBoLZRQx"
      },
      "outputs": [],
      "source": [
        "fruits = ['orange', 'apple', 'pear', 'banana', 'kiwi', 'apple', 'banana']\n",
        "for i, x in enumerate(fruits):\n",
        "  print (i, x)"
      ]
    },
    {
      "cell_type": "code",
      "execution_count": null,
      "metadata": {
        "id": "oCqcBVNjZgoq"
      },
      "outputs": [],
      "source": [
        "vectors = ((0,0,0), (3, 5, 7), (8, 8, 8))\n",
        "for i, x in enumerate(vectors):\n",
        "  print (i, x)"
      ]
    },
    {
      "cell_type": "code",
      "execution_count": null,
      "metadata": {
        "id": "UA8pU66XZlE0"
      },
      "outputs": [],
      "source": [
        "baskets = {'orange', 'apple', 'pear', 'banana', 'kiwi', 'apple', 'banana'}\n",
        "for i, x in enumerate(baskets):\n",
        "  print (i, x)"
      ]
    },
    {
      "cell_type": "markdown",
      "metadata": {
        "id": "lS7KqMeaZtWx"
      },
      "source": [
        "### Step 4: 使用 zip()"
      ]
    },
    {
      "cell_type": "code",
      "execution_count": null,
      "metadata": {
        "id": "iT2fpXj4Zxwj"
      },
      "outputs": [],
      "source": [
        "questions = ['name', 'quest', 'favorite color']\n",
        "answers = ['lancelot', 'the holy grail', 'blue']\n",
        "for q, a in zip(questions, answers):\n",
        " print(f'What is your {q}?  It is {a}.')"
      ]
    },
    {
      "cell_type": "markdown",
      "metadata": {
        "id": "VpTgX7GtbW0A"
      },
      "source": [
        "## Topic 7:map()函數的使用\n",
        "\n",
        "map(function, iterable, ...)\n",
        "\n",
        "返回一個將 function 應用於 iterable 中每一項並輸出其結果的迭代器。如果傳入了額外的 iterable 參數，function 必須接受相同個數的實參並被應用於從所有可迭代對像中並行獲取的項。當有多個可迭代對象時，最短的可迭代對象耗盡則整個迭代就將結束。\n"
      ]
    },
    {
      "cell_type": "markdown",
      "metadata": {
        "id": "KUW8uebNbcPJ"
      },
      "source": [
        "### Step 1: 計算資料容器的變數長度"
      ]
    },
    {
      "cell_type": "code",
      "execution_count": null,
      "metadata": {
        "id": "T7goxoTHbbr5"
      },
      "outputs": [],
      "source": [
        "a, b, c = map(len, ('apple', 'banana', 'cherry'))\n",
        "print(a, b, c)"
      ]
    },
    {
      "cell_type": "markdown",
      "metadata": {
        "id": "4LDzQpKOck9f"
      },
      "source": [
        "Step 2: 將輸入字串轉換成整數"
      ]
    },
    {
      "cell_type": "code",
      "execution_count": null,
      "metadata": {
        "id": "sjMuufgtctBP"
      },
      "outputs": [],
      "source": [
        "a, b, c = map(int, ['3', '5', '6'])\n",
        "print(a, b, c)"
      ]
    },
    {
      "cell_type": "markdown",
      "source": [
        "## Topic 8:快速輸入"
      ],
      "metadata": {
        "id": "_Gq29ZuZR-Kk"
      }
    },
    {
      "cell_type": "code",
      "source": [
        "#100個介於0到200之間的亂數整數\n",
        "import random\n",
        "random_numbers = []\n",
        "for _ in range(100):\n",
        "  random_numbers.append(random.randint(0, 200))\n",
        "result = ' '.join(map(str, random_numbers))\n",
        "print(result)"
      ],
      "metadata": {
        "colab": {
          "base_uri": "https://localhost:8080/"
        },
        "id": "kIWqkymFSlpq",
        "outputId": "c48bb4d6-da5c-4969-ef5c-1ce86fb6dc63"
      },
      "execution_count": 3,
      "outputs": [
        {
          "output_type": "stream",
          "name": "stdout",
          "text": [
            "182 92 111 174 38 150 14 165 56 138 132 120 71 59 182 101 22 15 133 71 31 84 54 172 101 191 30 64 29 148 34 50 29 44 44 62 106 9 55 107 111 57 109 152 67 42 66 51 84 149 189 150 63 149 94 147 23 73 136 61 100 154 179 149 13 195 20 60 9 155 116 184 78 106 103 149 87 103 135 89 130 86 131 97 58 126 131 56 76 86 133 112 118 96 160 81 174 28 10 186\n"
          ]
        }
      ]
    },
    {
      "cell_type": "markdown",
      "source": [
        "### Step 1: 慢速一行輸入\n",
        "\n",
        "輸入一行有100個整數\n",
        "\n"
      ],
      "metadata": {
        "id": "5YKZKI2ZSG9S"
      }
    },
    {
      "cell_type": "code",
      "source": [
        "aa=list(map(int,input().split()))\n",
        "print(aa)"
      ],
      "metadata": {
        "colab": {
          "base_uri": "https://localhost:8080/"
        },
        "id": "_cGGR_NuSjOZ",
        "outputId": "cb7a0f5a-129d-4e56-d970-86fc23d759ee"
      },
      "execution_count": 4,
      "outputs": [
        {
          "output_type": "stream",
          "name": "stdout",
          "text": [
            "182 92 111 174 38 150 14 165 56 138 132 120 71 59 182 101 22 15 133 71 31 84 54 172 101 191 30 64 29 148 34 50 29 44 44 62 106 9 55 107 111 57 109 152 67 42 66 51 84 149 189 150 63 149 94 147 23 73 136 61 100 154 179 149 13 195 20 60 9 155 116 184 78 106 103 149 87 103 135 89 130 86 131 97 58 126 131 56 76 86 133 112 118 96 160 81 174 28 10 186\n",
            "[182, 92, 111, 174, 38, 150, 14, 165, 56, 138, 132, 120, 71, 59, 182, 101, 22, 15, 133, 71, 31, 84, 54, 172, 101, 191, 30, 64, 29, 148, 34, 50, 29, 44, 44, 62, 106, 9, 55, 107, 111, 57, 109, 152, 67, 42, 66, 51, 84, 149, 189, 150, 63, 149, 94, 147, 23, 73, 136, 61, 100, 154, 179, 149, 13, 195, 20, 60, 9, 155, 116, 184, 78, 106, 103, 149, 87, 103, 135, 89, 130, 86, 131, 97, 58, 126, 131, 56, 76, 86, 133, 112, 118, 96, 160, 81, 174, 28, 10, 186]\n"
          ]
        }
      ]
    },
    {
      "cell_type": "markdown",
      "source": [
        "### Step 1a: 考試快速一行輸入，用sys.stdin.readline()取代input()"
      ],
      "metadata": {
        "id": "ct8WL0xnTRo1"
      }
    },
    {
      "cell_type": "code",
      "source": [
        "import sys\n",
        "bb = list(map(int, sys.stdin.readline().split()))\n",
        "print(bb)"
      ],
      "metadata": {
        "colab": {
          "base_uri": "https://localhost:8080/"
        },
        "id": "MmxKw9XsSNvj",
        "outputId": "dc0b3d6a-c193-4736-f078-23e9a114bb60"
      },
      "execution_count": 5,
      "outputs": [
        {
          "output_type": "stream",
          "name": "stdout",
          "text": [
            "[]\n"
          ]
        }
      ]
    },
    {
      "cell_type": "markdown",
      "source": [
        "Step 1b: 考試快速一行輸入, 用列表生成式 (List Comprehension)"
      ],
      "metadata": {
        "id": "hjHEvd2YTvPu"
      }
    },
    {
      "cell_type": "code",
      "source": [
        "import sys\n",
        "cc = [int(x) for x in sys.stdin.readline().split()]"
      ],
      "metadata": {
        "id": "mh4MLLrxT0ew"
      },
      "execution_count": null,
      "outputs": []
    },
    {
      "cell_type": "markdown",
      "source": [
        "### Step 2: 快速全輸入"
      ],
      "metadata": {
        "id": "_mHubxI6UPtK"
      }
    },
    {
      "cell_type": "markdown",
      "source": [
        "Step 2a: 考試快速輸入，用loop"
      ],
      "metadata": {
        "id": "rx5J5fJYE0jF"
      }
    },
    {
      "cell_type": "code",
      "source": [
        "import sys\n",
        "lines=[]\n",
        "for line in sys.stdin:\n",
        "  lines.append(line.rstrip('\\n'))"
      ],
      "metadata": {
        "id": "D27MYk-kFJrk"
      },
      "execution_count": null,
      "outputs": []
    },
    {
      "cell_type": "markdown",
      "source": [
        "Step 2a: 考試快速輸入，用列表推導式（list comprehension）"
      ],
      "metadata": {
        "id": "l0OHD2RUT29w"
      }
    },
    {
      "cell_type": "code",
      "source": [
        "import sys\n",
        "lines = [line.rstrip('\\n') for line in sys.stdin]"
      ],
      "metadata": {
        "id": "XQjd1gT6E7oX"
      },
      "execution_count": null,
      "outputs": []
    },
    {
      "cell_type": "code",
      "source": [],
      "metadata": {
        "id": "BOKDdHcbGrWO"
      },
      "execution_count": null,
      "outputs": []
    }
  ],
  "metadata": {
    "colab": {
      "provenance": []
    },
    "kernelspec": {
      "display_name": "Python 3 (ipykernel)",
      "language": "python",
      "name": "python3"
    },
    "language_info": {
      "codemirror_mode": {
        "name": "ipython",
        "version": 3
      },
      "file_extension": ".py",
      "mimetype": "text/x-python",
      "name": "python",
      "nbconvert_exporter": "python",
      "pygments_lexer": "ipython3",
      "version": "3.9.7"
    }
  },
  "nbformat": 4,
  "nbformat_minor": 0
}