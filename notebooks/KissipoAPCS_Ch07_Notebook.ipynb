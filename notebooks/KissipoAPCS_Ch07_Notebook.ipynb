{
  "nbformat": 4,
  "nbformat_minor": 0,
  "metadata": {
    "colab": {
      "provenance": []
    },
    "kernelspec": {
      "name": "python3",
      "display_name": "Python 3"
    },
    "language_info": {
      "name": "python"
    }
  },
  "cells": [
    {
      "cell_type": "markdown",
      "source": [
        "# KissipoAPCS_Ch07_Notebook"
      ],
      "metadata": {
        "id": "4ZQiZNPHFv_t"
      }
    },
    {
      "cell_type": "markdown",
      "source": [
        "## 1 籃球比賽\n",
        "* 資料結構\n",
        "* 演算法"
      ],
      "metadata": {
        "id": "LMlSg2vphsS_"
      }
    },
    {
      "cell_type": "markdown",
      "source": [
        "### Step 1:輸入"
      ],
      "metadata": {
        "id": "dsHBsgUvhyBb"
      }
    },
    {
      "cell_type": "code",
      "source": [],
      "metadata": {
        "id": "BGU8WIgih0ij"
      },
      "execution_count": null,
      "outputs": []
    },
    {
      "cell_type": "markdown",
      "source": [
        "### Step 2:演算法和輸出"
      ],
      "metadata": {
        "id": "tNLH_ruxh05p"
      }
    },
    {
      "cell_type": "code",
      "source": [],
      "metadata": {
        "id": "PFIk2DCUh1YO"
      },
      "execution_count": null,
      "outputs": []
    },
    {
      "cell_type": "markdown",
      "source": [
        "### Solution : 合併程式"
      ],
      "metadata": {
        "id": "_p98_RmMh3bX"
      }
    },
    {
      "cell_type": "code",
      "source": [],
      "metadata": {
        "id": "DBZpSLGDh3zo"
      },
      "execution_count": null,
      "outputs": []
    },
    {
      "cell_type": "markdown",
      "source": [
        "## 2贏家預測\n",
        "* 資料結構\n",
        "* 演算法\n"
      ],
      "metadata": {
        "id": "KM-o4MyfGS9H"
      }
    },
    {
      "cell_type": "markdown",
      "source": [
        "### Step 1:輸入"
      ],
      "metadata": {
        "id": "ipa7MUvO6QMl"
      }
    },
    {
      "cell_type": "code",
      "source": [
        "#輸入型式 Input pattern"
      ],
      "metadata": {
        "id": "uBiRVmbB6aYe"
      },
      "execution_count": null,
      "outputs": []
    },
    {
      "cell_type": "code",
      "source": [
        "#輸入範例1 Input sample 1"
      ],
      "metadata": {
        "id": "HD4ipmptXAKo"
      },
      "execution_count": null,
      "outputs": []
    },
    {
      "cell_type": "markdown",
      "source": [
        "### Step 2:演算法和輸出"
      ],
      "metadata": {
        "id": "SK82nVR16kyI"
      }
    },
    {
      "cell_type": "code",
      "source": [],
      "metadata": {
        "id": "TKbxEehf6lGS"
      },
      "execution_count": null,
      "outputs": []
    },
    {
      "cell_type": "markdown",
      "source": [
        "### Solution : 合併程式"
      ],
      "metadata": {
        "id": "r5VQF5oZ6rC0"
      }
    },
    {
      "cell_type": "code",
      "source": [],
      "metadata": {
        "id": "rZTIqJQk6ra-"
      },
      "execution_count": null,
      "outputs": []
    },
    {
      "cell_type": "markdown",
      "source": [
        "## 3 字串解碼\n",
        "* 資料結構\n",
        "* 演算法\n"
      ],
      "metadata": {
        "id": "Duuv9QYcGYvU"
      }
    },
    {
      "cell_type": "markdown",
      "source": [
        "### Step 1:輸入"
      ],
      "metadata": {
        "id": "vW8UNdnR6Q29"
      }
    },
    {
      "cell_type": "code",
      "source": [
        "#輸入型式 Input pattern"
      ],
      "metadata": {
        "id": "k-CNy3-O6bb2"
      },
      "execution_count": null,
      "outputs": []
    },
    {
      "cell_type": "code",
      "source": [
        "#輸入範例1 Input sample 1"
      ],
      "metadata": {
        "id": "7TzNWFiYXEuw"
      },
      "execution_count": null,
      "outputs": []
    },
    {
      "cell_type": "markdown",
      "source": [
        "### Step 2:演算法和輸出"
      ],
      "metadata": {
        "id": "9E-WlFoZ6mDC"
      }
    },
    {
      "cell_type": "code",
      "source": [],
      "metadata": {
        "id": "1aOaoGvb6mW7"
      },
      "execution_count": null,
      "outputs": []
    },
    {
      "cell_type": "markdown",
      "source": [
        "### Solution : 合併程式"
      ],
      "metadata": {
        "id": "pwbGcdCi6taY"
      }
    },
    {
      "cell_type": "code",
      "source": [],
      "metadata": {
        "id": "BICNKuj26tns"
      },
      "execution_count": null,
      "outputs": []
    },
    {
      "cell_type": "markdown",
      "source": [
        "## 4 運貨站\n",
        "* 資料結構\n",
        "* 演算法"
      ],
      "metadata": {
        "id": "TlkU4MQcv2qX"
      }
    },
    {
      "cell_type": "markdown",
      "source": [
        "### Step 1:輸入"
      ],
      "metadata": {
        "id": "PtY_O9AXv7Tq"
      }
    },
    {
      "cell_type": "code",
      "source": [
        "#輸入型式 Input pattern"
      ],
      "metadata": {
        "id": "Fr7eb4nGv9WO"
      },
      "execution_count": null,
      "outputs": []
    },
    {
      "cell_type": "code",
      "source": [
        "#輸入範例1 Input sample 1"
      ],
      "metadata": {
        "id": "Hrbgryi2wUts"
      },
      "execution_count": null,
      "outputs": []
    },
    {
      "cell_type": "markdown",
      "source": [
        "### Step 2:演算法和輸出"
      ],
      "metadata": {
        "id": "wvzt8Urev-zJ"
      }
    },
    {
      "cell_type": "code",
      "source": [],
      "metadata": {
        "id": "ZG8PBgX9v_Zt"
      },
      "execution_count": null,
      "outputs": []
    },
    {
      "cell_type": "markdown",
      "source": [
        "### Solution : 合併程式"
      ],
      "metadata": {
        "id": "kmgWj2PjwBYC"
      }
    },
    {
      "cell_type": "code",
      "source": [],
      "metadata": {
        "id": "3uVspqX5wB0a"
      },
      "execution_count": null,
      "outputs": []
    }
  ]
}